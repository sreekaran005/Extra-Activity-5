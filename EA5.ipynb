{
  "nbformat": 4,
  "nbformat_minor": 0,
  "metadata": {
    "colab": {
      "provenance": [],
      "authorship_tag": "ABX9TyNncda9XdX+za564h0eujIQ",
      "include_colab_link": true
    },
    "kernelspec": {
      "name": "python3",
      "display_name": "Python 3"
    },
    "language_info": {
      "name": "python"
    }
  },
  "cells": [
    {
      "cell_type": "markdown",
      "metadata": {
        "id": "view-in-github",
        "colab_type": "text"
      },
      "source": [
        "<a href=\"https://colab.research.google.com/gist/lokesh-18a/9f538078f1ba629b1d9f1db4eef76d94/ea5.ipynb\" target=\"_parent\"><img src=\"https://colab.research.google.com/assets/colab-badge.svg\" alt=\"Open In Colab\"/></a>"
      ]
    },
    {
      "cell_type": "markdown",
      "source": [
        "**Import**"
      ],
      "metadata": {
        "id": "x-T6J38bXaSO"
      }
    },
    {
      "cell_type": "code",
      "execution_count": 1,
      "metadata": {
        "id": "PYO29H1PWL4Y"
      },
      "outputs": [],
      "source": [
        "import numpy as np\n",
        "import scipy.stats as st\n",
        "import pandas as pd\n",
        "import matplotlib.pyplot as plt"
      ]
    },
    {
      "cell_type": "markdown",
      "source": [
        "**Generation of Distribution**"
      ],
      "metadata": {
        "id": "bg4U72O_XxGs"
      }
    },
    {
      "cell_type": "code",
      "source": [
        "shape = 7\n",
        "scale = 10\n",
        "n = 1000\n",
        "data = np.random.gamma(shape,scale,n)\n",
        "df = pd.DataFrame(data,columns=['Data'])\n",
        "df.to_excel('Data_.xlsx',index=False)"
      ],
      "metadata": {
        "id": "MkvQvl6sTfC3"
      },
      "execution_count": 6,
      "outputs": []
    },
    {
      "cell_type": "code",
      "source": [
        "from google.colab import files\n",
        "files.download('Data_.xlsx')"
      ],
      "metadata": {
        "colab": {
          "base_uri": "https://localhost:8080/",
          "height": 17
        },
        "id": "RbDL9MftVUV4",
        "outputId": "229fafc6-67e7-4ddf-9f77-de94ff2fed1b"
      },
      "execution_count": 7,
      "outputs": [
        {
          "output_type": "display_data",
          "data": {
            "text/plain": [
              "<IPython.core.display.Javascript object>"
            ],
            "application/javascript": [
              "\n",
              "    async function download(id, filename, size) {\n",
              "      if (!google.colab.kernel.accessAllowed) {\n",
              "        return;\n",
              "      }\n",
              "      const div = document.createElement('div');\n",
              "      const label = document.createElement('label');\n",
              "      label.textContent = `Downloading \"${filename}\": `;\n",
              "      div.appendChild(label);\n",
              "      const progress = document.createElement('progress');\n",
              "      progress.max = size;\n",
              "      div.appendChild(progress);\n",
              "      document.body.appendChild(div);\n",
              "\n",
              "      const buffers = [];\n",
              "      let downloaded = 0;\n",
              "\n",
              "      const channel = await google.colab.kernel.comms.open(id);\n",
              "      // Send a message to notify the kernel that we're ready.\n",
              "      channel.send({})\n",
              "\n",
              "      for await (const message of channel.messages) {\n",
              "        // Send a message to notify the kernel that we're ready.\n",
              "        channel.send({})\n",
              "        if (message.buffers) {\n",
              "          for (const buffer of message.buffers) {\n",
              "            buffers.push(buffer);\n",
              "            downloaded += buffer.byteLength;\n",
              "            progress.value = downloaded;\n",
              "          }\n",
              "        }\n",
              "      }\n",
              "      const blob = new Blob(buffers, {type: 'application/binary'});\n",
              "      const a = document.createElement('a');\n",
              "      a.href = window.URL.createObjectURL(blob);\n",
              "      a.download = filename;\n",
              "      div.appendChild(a);\n",
              "      a.click();\n",
              "      div.remove();\n",
              "    }\n",
              "  "
            ]
          },
          "metadata": {}
        },
        {
          "output_type": "display_data",
          "data": {
            "text/plain": [
              "<IPython.core.display.Javascript object>"
            ],
            "application/javascript": [
              "download(\"download_62207138-f02b-47c1-96dc-b30c67995b7c\", \"Data_.xlsx\", 21428)"
            ]
          },
          "metadata": {}
        }
      ]
    },
    {
      "cell_type": "code",
      "source": [
        "df = pd.read_excel(r'/content/Data_.xlsx')\n",
        "df.head()"
      ],
      "metadata": {
        "colab": {
          "base_uri": "https://localhost:8080/",
          "height": 206
        },
        "id": "o_PRdTy1mnq1",
        "outputId": "573ad572-0a2e-4179-df03-912c17ef7da3"
      },
      "execution_count": 8,
      "outputs": [
        {
          "output_type": "execute_result",
          "data": {
            "text/plain": [
              "        Data\n",
              "0  78.333409\n",
              "1  67.692532\n",
              "2  94.793017\n",
              "3  63.808820\n",
              "4  44.304206"
            ],
            "text/html": [
              "\n",
              "  <div id=\"df-508bbf8f-9e57-43e1-b0bc-13dca4a4038f\" class=\"colab-df-container\">\n",
              "    <div>\n",
              "<style scoped>\n",
              "    .dataframe tbody tr th:only-of-type {\n",
              "        vertical-align: middle;\n",
              "    }\n",
              "\n",
              "    .dataframe tbody tr th {\n",
              "        vertical-align: top;\n",
              "    }\n",
              "\n",
              "    .dataframe thead th {\n",
              "        text-align: right;\n",
              "    }\n",
              "</style>\n",
              "<table border=\"1\" class=\"dataframe\">\n",
              "  <thead>\n",
              "    <tr style=\"text-align: right;\">\n",
              "      <th></th>\n",
              "      <th>Data</th>\n",
              "    </tr>\n",
              "  </thead>\n",
              "  <tbody>\n",
              "    <tr>\n",
              "      <th>0</th>\n",
              "      <td>78.333409</td>\n",
              "    </tr>\n",
              "    <tr>\n",
              "      <th>1</th>\n",
              "      <td>67.692532</td>\n",
              "    </tr>\n",
              "    <tr>\n",
              "      <th>2</th>\n",
              "      <td>94.793017</td>\n",
              "    </tr>\n",
              "    <tr>\n",
              "      <th>3</th>\n",
              "      <td>63.808820</td>\n",
              "    </tr>\n",
              "    <tr>\n",
              "      <th>4</th>\n",
              "      <td>44.304206</td>\n",
              "    </tr>\n",
              "  </tbody>\n",
              "</table>\n",
              "</div>\n",
              "    <div class=\"colab-df-buttons\">\n",
              "\n",
              "  <div class=\"colab-df-container\">\n",
              "    <button class=\"colab-df-convert\" onclick=\"convertToInteractive('df-508bbf8f-9e57-43e1-b0bc-13dca4a4038f')\"\n",
              "            title=\"Convert this dataframe to an interactive table.\"\n",
              "            style=\"display:none;\">\n",
              "\n",
              "  <svg xmlns=\"http://www.w3.org/2000/svg\" height=\"24px\" viewBox=\"0 -960 960 960\">\n",
              "    <path d=\"M120-120v-720h720v720H120Zm60-500h600v-160H180v160Zm220 220h160v-160H400v160Zm0 220h160v-160H400v160ZM180-400h160v-160H180v160Zm440 0h160v-160H620v160ZM180-180h160v-160H180v160Zm440 0h160v-160H620v160Z\"/>\n",
              "  </svg>\n",
              "    </button>\n",
              "\n",
              "  <style>\n",
              "    .colab-df-container {\n",
              "      display:flex;\n",
              "      gap: 12px;\n",
              "    }\n",
              "\n",
              "    .colab-df-convert {\n",
              "      background-color: #E8F0FE;\n",
              "      border: none;\n",
              "      border-radius: 50%;\n",
              "      cursor: pointer;\n",
              "      display: none;\n",
              "      fill: #1967D2;\n",
              "      height: 32px;\n",
              "      padding: 0 0 0 0;\n",
              "      width: 32px;\n",
              "    }\n",
              "\n",
              "    .colab-df-convert:hover {\n",
              "      background-color: #E2EBFA;\n",
              "      box-shadow: 0px 1px 2px rgba(60, 64, 67, 0.3), 0px 1px 3px 1px rgba(60, 64, 67, 0.15);\n",
              "      fill: #174EA6;\n",
              "    }\n",
              "\n",
              "    .colab-df-buttons div {\n",
              "      margin-bottom: 4px;\n",
              "    }\n",
              "\n",
              "    [theme=dark] .colab-df-convert {\n",
              "      background-color: #3B4455;\n",
              "      fill: #D2E3FC;\n",
              "    }\n",
              "\n",
              "    [theme=dark] .colab-df-convert:hover {\n",
              "      background-color: #434B5C;\n",
              "      box-shadow: 0px 1px 3px 1px rgba(0, 0, 0, 0.15);\n",
              "      filter: drop-shadow(0px 1px 2px rgba(0, 0, 0, 0.3));\n",
              "      fill: #FFFFFF;\n",
              "    }\n",
              "  </style>\n",
              "\n",
              "    <script>\n",
              "      const buttonEl =\n",
              "        document.querySelector('#df-508bbf8f-9e57-43e1-b0bc-13dca4a4038f button.colab-df-convert');\n",
              "      buttonEl.style.display =\n",
              "        google.colab.kernel.accessAllowed ? 'block' : 'none';\n",
              "\n",
              "      async function convertToInteractive(key) {\n",
              "        const element = document.querySelector('#df-508bbf8f-9e57-43e1-b0bc-13dca4a4038f');\n",
              "        const dataTable =\n",
              "          await google.colab.kernel.invokeFunction('convertToInteractive',\n",
              "                                                    [key], {});\n",
              "        if (!dataTable) return;\n",
              "\n",
              "        const docLinkHtml = 'Like what you see? Visit the ' +\n",
              "          '<a target=\"_blank\" href=https://colab.research.google.com/notebooks/data_table.ipynb>data table notebook</a>'\n",
              "          + ' to learn more about interactive tables.';\n",
              "        element.innerHTML = '';\n",
              "        dataTable['output_type'] = 'display_data';\n",
              "        await google.colab.output.renderOutput(dataTable, element);\n",
              "        const docLink = document.createElement('div');\n",
              "        docLink.innerHTML = docLinkHtml;\n",
              "        element.appendChild(docLink);\n",
              "      }\n",
              "    </script>\n",
              "  </div>\n",
              "\n",
              "\n",
              "<div id=\"df-3a120252-e471-4d74-a71c-2312345bd124\">\n",
              "  <button class=\"colab-df-quickchart\" onclick=\"quickchart('df-3a120252-e471-4d74-a71c-2312345bd124')\"\n",
              "            title=\"Suggest charts\"\n",
              "            style=\"display:none;\">\n",
              "\n",
              "<svg xmlns=\"http://www.w3.org/2000/svg\" height=\"24px\"viewBox=\"0 0 24 24\"\n",
              "     width=\"24px\">\n",
              "    <g>\n",
              "        <path d=\"M19 3H5c-1.1 0-2 .9-2 2v14c0 1.1.9 2 2 2h14c1.1 0 2-.9 2-2V5c0-1.1-.9-2-2-2zM9 17H7v-7h2v7zm4 0h-2V7h2v10zm4 0h-2v-4h2v4z\"/>\n",
              "    </g>\n",
              "</svg>\n",
              "  </button>\n",
              "\n",
              "<style>\n",
              "  .colab-df-quickchart {\n",
              "      --bg-color: #E8F0FE;\n",
              "      --fill-color: #1967D2;\n",
              "      --hover-bg-color: #E2EBFA;\n",
              "      --hover-fill-color: #174EA6;\n",
              "      --disabled-fill-color: #AAA;\n",
              "      --disabled-bg-color: #DDD;\n",
              "  }\n",
              "\n",
              "  [theme=dark] .colab-df-quickchart {\n",
              "      --bg-color: #3B4455;\n",
              "      --fill-color: #D2E3FC;\n",
              "      --hover-bg-color: #434B5C;\n",
              "      --hover-fill-color: #FFFFFF;\n",
              "      --disabled-bg-color: #3B4455;\n",
              "      --disabled-fill-color: #666;\n",
              "  }\n",
              "\n",
              "  .colab-df-quickchart {\n",
              "    background-color: var(--bg-color);\n",
              "    border: none;\n",
              "    border-radius: 50%;\n",
              "    cursor: pointer;\n",
              "    display: none;\n",
              "    fill: var(--fill-color);\n",
              "    height: 32px;\n",
              "    padding: 0;\n",
              "    width: 32px;\n",
              "  }\n",
              "\n",
              "  .colab-df-quickchart:hover {\n",
              "    background-color: var(--hover-bg-color);\n",
              "    box-shadow: 0 1px 2px rgba(60, 64, 67, 0.3), 0 1px 3px 1px rgba(60, 64, 67, 0.15);\n",
              "    fill: var(--button-hover-fill-color);\n",
              "  }\n",
              "\n",
              "  .colab-df-quickchart-complete:disabled,\n",
              "  .colab-df-quickchart-complete:disabled:hover {\n",
              "    background-color: var(--disabled-bg-color);\n",
              "    fill: var(--disabled-fill-color);\n",
              "    box-shadow: none;\n",
              "  }\n",
              "\n",
              "  .colab-df-spinner {\n",
              "    border: 2px solid var(--fill-color);\n",
              "    border-color: transparent;\n",
              "    border-bottom-color: var(--fill-color);\n",
              "    animation:\n",
              "      spin 1s steps(1) infinite;\n",
              "  }\n",
              "\n",
              "  @keyframes spin {\n",
              "    0% {\n",
              "      border-color: transparent;\n",
              "      border-bottom-color: var(--fill-color);\n",
              "      border-left-color: var(--fill-color);\n",
              "    }\n",
              "    20% {\n",
              "      border-color: transparent;\n",
              "      border-left-color: var(--fill-color);\n",
              "      border-top-color: var(--fill-color);\n",
              "    }\n",
              "    30% {\n",
              "      border-color: transparent;\n",
              "      border-left-color: var(--fill-color);\n",
              "      border-top-color: var(--fill-color);\n",
              "      border-right-color: var(--fill-color);\n",
              "    }\n",
              "    40% {\n",
              "      border-color: transparent;\n",
              "      border-right-color: var(--fill-color);\n",
              "      border-top-color: var(--fill-color);\n",
              "    }\n",
              "    60% {\n",
              "      border-color: transparent;\n",
              "      border-right-color: var(--fill-color);\n",
              "    }\n",
              "    80% {\n",
              "      border-color: transparent;\n",
              "      border-right-color: var(--fill-color);\n",
              "      border-bottom-color: var(--fill-color);\n",
              "    }\n",
              "    90% {\n",
              "      border-color: transparent;\n",
              "      border-bottom-color: var(--fill-color);\n",
              "    }\n",
              "  }\n",
              "</style>\n",
              "\n",
              "  <script>\n",
              "    async function quickchart(key) {\n",
              "      const quickchartButtonEl =\n",
              "        document.querySelector('#' + key + ' button');\n",
              "      quickchartButtonEl.disabled = true;  // To prevent multiple clicks.\n",
              "      quickchartButtonEl.classList.add('colab-df-spinner');\n",
              "      try {\n",
              "        const charts = await google.colab.kernel.invokeFunction(\n",
              "            'suggestCharts', [key], {});\n",
              "      } catch (error) {\n",
              "        console.error('Error during call to suggestCharts:', error);\n",
              "      }\n",
              "      quickchartButtonEl.classList.remove('colab-df-spinner');\n",
              "      quickchartButtonEl.classList.add('colab-df-quickchart-complete');\n",
              "    }\n",
              "    (() => {\n",
              "      let quickchartButtonEl =\n",
              "        document.querySelector('#df-3a120252-e471-4d74-a71c-2312345bd124 button');\n",
              "      quickchartButtonEl.style.display =\n",
              "        google.colab.kernel.accessAllowed ? 'block' : 'none';\n",
              "    })();\n",
              "  </script>\n",
              "</div>\n",
              "\n",
              "    </div>\n",
              "  </div>\n"
            ],
            "application/vnd.google.colaboratory.intrinsic+json": {
              "type": "dataframe",
              "variable_name": "df",
              "summary": "{\n  \"name\": \"df\",\n  \"rows\": 1000,\n  \"fields\": [\n    {\n      \"column\": \"Data\",\n      \"properties\": {\n        \"dtype\": \"number\",\n        \"std\": 26.50708554236581,\n        \"min\": 14.2389345296898,\n        \"max\": 187.3268380422902,\n        \"num_unique_values\": 1000,\n        \"samples\": [\n          65.79330052191433,\n          133.9843730369796,\n          67.73469453063454\n        ],\n        \"semantic_type\": \"\",\n        \"description\": \"\"\n      }\n    }\n  ]\n}"
            }
          },
          "metadata": {},
          "execution_count": 8
        }
      ]
    },
    {
      "cell_type": "markdown",
      "source": [
        "**Plot of the Data**\n",
        "\n",
        "We see that there are 1000 samples of data. To get a sense of the distribution, we should plot a histogram."
      ],
      "metadata": {
        "id": "unokZds1X4Y6"
      }
    },
    {
      "cell_type": "code",
      "source": [
        "plt.hist(df['Data'],bins=10)"
      ],
      "metadata": {
        "colab": {
          "base_uri": "https://localhost:8080/",
          "height": 517
        },
        "id": "op9KuzUApPNd",
        "outputId": "feff0e28-78cd-4ae6-a269-0f96f72c2796"
      },
      "execution_count": 9,
      "outputs": [
        {
          "output_type": "execute_result",
          "data": {
            "text/plain": [
              "(array([ 54., 181., 264., 248., 133.,  71.,  34.,   7.,   5.,   3.]),\n",
              " array([ 14.23893453,  31.54772488,  48.85651523,  66.16530558,\n",
              "         83.47409593, 100.78288629, 118.09167664, 135.40046699,\n",
              "        152.70925734, 170.01804769, 187.32683804]),\n",
              " <BarContainer object of 10 artists>)"
            ]
          },
          "metadata": {},
          "execution_count": 9
        },
        {
          "output_type": "display_data",
          "data": {
            "text/plain": [
              "<Figure size 640x480 with 1 Axes>"
            ],
            "image/png": "[encoded data removed]"
          },
          "metadata": {}
        }
      ]
    },
    {
      "cell_type": "markdown",
      "source": [
        "# Fitting a Gamma distribution\n",
        "From the histogram, the distribution could be modelled as Gamma$(\\alpha,\\beta)$. The next step is to estimate $\\alpha$ and $\\beta$ from the given samples.\n",
        "\n",
        "## Method of moments\n",
        "Suppose $m_1$ and $m_2$ are the first and second moments of the samples. The method of moments estimates are obtained by solving\n",
        "$$m_1=\\frac{\\alpha}{\\beta},$$\n",
        "$$m_2=\\frac{\\alpha^2}{\\beta^2}+\\frac{\\alpha}{\\beta^2}.$$\n",
        "The solution results in\n",
        "$$\\hat{\\alpha}_{MM}=\\frac{m_1^2}{m_2-m_1^2}=\\frac{m_1^2}{s^2},\\hat{\\beta}_{MM}=\\frac{m_1}{m_2-m_1^2}=\\frac{m_1}{s^2}.$$\n",
        "We now compute the values of $m_1$ (sample mean) and $s^2=m_2-m_1^2$ (sample variance) from the data. After that, we can compute the estimates."
      ],
      "metadata": {
        "id": "lg_sUR_pYj35"
      }
    },
    {
      "cell_type": "code",
      "source": [
        "x = np.array(df['Data'])\n",
        "m1 = np.average(x)\n",
        "ss = np.var(x)\n",
        "print(m1)\n",
        "print(ss)"
      ],
      "metadata": {
        "colab": {
          "base_uri": "https://localhost:8080/"
        },
        "id": "i7EniDH7rKQB",
        "outputId": "6a6c608e-6fbc-48a5-803f-2e035ea72eed"
      },
      "execution_count": 10,
      "outputs": [
        {
          "output_type": "stream",
          "name": "stdout",
          "text": [
            "68.81857015104825\n",
            "701.9229583663482\n"
          ]
        }
      ]
    },
    {
      "cell_type": "code",
      "source": [
        "alphaMM = m1*m1/ss\n",
        "betaMM = m1/ss\n",
        "print(alphaMM)\n",
        "print(betaMM)"
      ],
      "metadata": {
        "colab": {
          "base_uri": "https://localhost:8080/"
        },
        "id": "bfT2yTq1rQTM",
        "outputId": "fde121ce-0a1e-4a19-80bf-124ea3128b87"
      },
      "execution_count": 11,
      "outputs": [
        {
          "output_type": "stream",
          "name": "stdout",
          "text": [
            "6.747172949944934\n",
            "0.09804291102148337\n"
          ]
        }
      ]
    },
    {
      "cell_type": "markdown",
      "source": [
        "We can plot the density of the Gamma on top of the density histogram to check if the estimate gives a reasonable fit."
      ],
      "metadata": {
        "id": "6iSud82RQ6Ma"
      }
    },
    {
      "cell_type": "code",
      "source": [
        "fig,ax = plt.subplots(1,1)\n",
        "ax.hist(x,density=True,bins=10)\n",
        "xx = np.linspace(0,300,50)\n",
        "ax.plot(xx, st.gamma.pdf(xx,alphaMM,scale=1/betaMM),label='gamma fit MM')\n",
        "ax.legend(loc='best')\n",
        "plt.show()"
      ],
      "metadata": {
        "colab": {
          "base_uri": "https://localhost:8080/",
          "height": 430
        },
        "id": "69IMhheprUJR",
        "outputId": "012ba2ff-3abe-4fe8-b0ea-60d74c4d94b2"
      },
      "execution_count": 12,
      "outputs": [
        {
          "output_type": "display_data",
          "data": {
            "text/plain": [
              "<Figure size 640x480 with 1 Axes>"
            ],
            "image/png": "[encoded data removed]"
          },
          "metadata": {}
        }
      ]
    },
    {
      "cell_type": "markdown",
      "source": [
        "# Bootstrap\n",
        "How do we find the bias and variance of the estimator? Theoretical derivations of the sampling distributions may be too cumbersome and difficult in most cases. Bootstrap is a Monte Carlo simulation method for computing metrics such as bias, variance and confidence intervals for estimators.\n",
        "\n",
        "In the above example, we have found $\\hat{\\alpha}_{MM}=6.9399...$ and $\\hat{\\beta}_{MM}=0.0995...$. Using these values, we simulate $n=1000$ *iid* samples from Gamma$(6.9399...,0.0995...)$ and, using the simulated samples, we compute new estimates of $\\alpha$ and $\\beta$ and call them $\\hat{\\alpha}_{MM}(1)$ and $\\hat{\\beta}_{MM}(1)$. Now, repeat the simulation $N$ times to get estimates $\\hat{\\alpha}_{MM}(i)$ and $\\hat{\\beta}_{MM}(i)$, $i=1,2,\\ldots,N$.\n",
        "\n",
        "The sample variance of $\\{\\hat{\\alpha}_{MM}(1), \\hat{\\alpha}_{MM}(2),\\ldots,\\hat{\\alpha}_{MM}(N)\\}$ is taken to be the bootstrap estimate for the variance of the estimator."
      ],
      "metadata": {
        "id": "VlhxKXNSZs26"
      }
    },
    {
      "cell_type": "code",
      "source": [
        "N = 1000\n",
        "n = 1000\n",
        "alpha_hat = np.zeros(N)\n",
        "beta_hat = np.zeros(N)\n",
        "for i in np.arange(N):\n",
        "  xi = st.gamma.rvs(alphaMM,scale=1/betaMM,size=n)\n",
        "  m1i = np.average(xi); ssi = np.var(xi)\n",
        "  alpha_hat[i] = m1i*m1i/ssi; beta_hat[i] = m1i/ssi"
      ],
      "metadata": {
        "id": "ZQzK7G0UZwPr"
      },
      "execution_count": 13,
      "outputs": []
    },
    {
      "cell_type": "markdown",
      "source": [
        "**Histogram for Estimates**\n",
        "\n",
        "We can see the histograms of the estimates to get an idea of the spread of the values."
      ],
      "metadata": {
        "id": "lCgFzbsUaUA1"
      }
    },
    {
      "cell_type": "code",
      "source": [
        "ax1 = plt.subplot(121)\n",
        "ax1.hist(alpha_hat,density=True)\n",
        "ax2 = plt.subplot(122)\n",
        "ax2.hist(beta_hat,density=True)"
      ],
      "metadata": {
        "colab": {
          "base_uri": "https://localhost:8080/",
          "height": 536
        },
        "id": "l1SdcuJJaXmh",
        "outputId": "f9924846-d9a0-4de5-b648-3c67649e94ba"
      },
      "execution_count": 14,
      "outputs": [
        {
          "output_type": "execute_result",
          "data": {
            "text/plain": [
              "(array([ 2.00496895,  8.35403729, 37.76024854, 63.15652189, 76.85714304,\n",
              "        73.84968961, 41.43602494, 21.72049695,  7.01739132,  2.00496895]),\n",
              " array([0.08365981, 0.08665238, 0.08964494, 0.09263751, 0.09563007,\n",
              "        0.09862264, 0.1016152 , 0.10460777, 0.10760033, 0.1105929 ,\n",
              "        0.11358546]),\n",
              " <BarContainer object of 10 artists>)"
            ]
          },
          "metadata": {},
          "execution_count": 14
        },
        {
          "output_type": "display_data",
          "data": {
            "text/plain": [
              "<Figure size 640x480 with 2 Axes>"
            ],
            "image/png": "[encoded data removed]"
          },
          "metadata": {}
        }
      ]
    },
    {
      "cell_type": "markdown",
      "source": [
        "The histograms look roughly normal.\n",
        "\n",
        "The sample standard deviations of the estimates is a bootstrap estimate for the standard error of the estimator."
      ],
      "metadata": {
        "id": "mQ3WNX6ERPM1"
      }
    },
    {
      "cell_type": "code",
      "source": [
        "print(np.sqrt(np.var(alpha_hat)))\n",
        "print(np.sqrt(np.var(beta_hat)))"
      ],
      "metadata": {
        "colab": {
          "base_uri": "https://localhost:8080/"
        },
        "id": "xcl9lZwPankD",
        "outputId": "5fa46da2-e300-4776-87ee-9fff5db59756"
      },
      "execution_count": 15,
      "outputs": [
        {
          "output_type": "stream",
          "name": "stdout",
          "text": [
            "0.32038672701194104\n",
            "0.0048258721507045375\n"
          ]
        }
      ]
    },
    {
      "cell_type": "markdown",
      "source": [
        "## Confidence intervals\n",
        "Suppose a parameter $\\theta$ is estimated as $\\hat{\\theta}$, and suppose the distribution of $\\hat{\\theta}-\\theta$ is known. Then, to obtain $(100(1-\\alpha))$% confidence intervals (typical values are $\\alpha=0.1$ for 90% confidence intervals and $\\alpha=0.05$ for 95% confidence intervals), we use the CDF of $\\hat{\\theta}-\\theta$ to obtain $\\delta_1$ and $\\delta_2$ such that\n",
        "$$P(\\hat{\\theta}-\\theta\\le\\delta_1)=1-\\frac{\\alpha}{2},$$\n",
        "$$P(\\hat{\\theta}-\\theta\\le\\delta_2)=\\frac{\\alpha}{2}.$$\n",
        "Actually, the inverse of the CDF of $\\hat{\\theta}-\\theta$ is used to find the above $\\delta_1$ and $\\delta_2$. From the above, we see that\n",
        "$$P(\\hat{\\theta}-\\theta \\le \\delta_1)-P(\\hat{\\theta}-\\theta \\le \\delta_2)= P(\\delta_2< \\hat{\\theta}-\\theta \\le \\delta_1)=1-\\frac{\\alpha}{2}-\\frac{\\alpha}{2}=1-\\alpha.$$\n",
        "The above is rewritten as\n",
        "$$P(\\hat{\\theta}-\\delta_1\\le\\theta<\\hat{\\theta}-\\delta_2)=1-\\alpha,$$\n",
        "and $[\\hat{\\theta}-\\delta_1,\\hat{\\theta}-\\delta_2]$ is interpreted as the $100(1-\\alpha)$% confidence interval.\n",
        "\n",
        "## Bootstrap confidence intervals\n",
        "The CDF of $\\hat{\\theta}-\\theta$ might be difficult to determine in many cases, and the bootstrap method is used often to estimate $\\delta_1$ and $\\delta_2$. We consider the list of numbers $\\{\\hat{\\alpha}_{MM}(1)-6.9399...,\\ldots,\\hat{\\alpha}_{MM}(N)-6.9399...\\}$ and pick the $100(\\alpha/2)$-th percentile and $100(1-\\alpha/2)$-th percentile."
      ],
      "metadata": {
        "id": "GhgtU6AUarrL"
      }
    },
    {
      "cell_type": "code",
      "source": [
        "del1 = np.percentile(alpha_hat - alphaMM, 97.5)\n",
        "del2 = np.percentile(alpha_hat - alphaMM, 2.5)\n",
        "print([del1,del2])"
      ],
      "metadata": {
        "colab": {
          "base_uri": "https://localhost:8080/"
        },
        "id": "mgvECG0IavFc",
        "outputId": "c62637d0-ae68-4490-ab1c-df4fd9858457"
      },
      "execution_count": 16,
      "outputs": [
        {
          "output_type": "stream",
          "name": "stdout",
          "text": [
            "[0.6399805868734819, -0.5712460847101327]\n"
          ]
        }
      ]
    },
    {
      "cell_type": "markdown",
      "source": [
        "The 95% confidence interval for $\\alpha$ using the method of moments estimator works out to $[6.9399-0.7571,6.9399-(-0.5777)]=[6.1828,7.5176]$."
      ],
      "metadata": {
        "id": "6PN1-HjdSRnH"
      }
    },
    {
      "cell_type": "markdown",
      "source": [
        "## Maximum likelihood\n",
        "We now turn to the maximum likelihood estimator for $\\alpha$ and $\\beta$. The likelihood $L(x_1,\\ldots,x_n)$ can be written as\n",
        "$$L = \\frac{\\beta^\\alpha}{\\Gamma(\\alpha)}x_1^{\\alpha-1}e^{-\\beta x_1}\\,\\frac{\\beta^\\alpha}{\\Gamma(\\alpha)}x_2^{\\alpha-1}e^{-\\beta x_2}\\cdots \\frac{\\beta^\\alpha}{\\Gamma(\\alpha)}x_n^{\\alpha-1}e^{-\\beta x_n}= \\frac{\\beta^{n\\alpha}}{\\Gamma(\\alpha)^n}(x_1\\cdots x_n)^{\\alpha-1}e^{-\\beta(x_1+\\cdots+x_n)},$$\n",
        "$$\\log L = n\\alpha\\log\\beta-n\\log\\Gamma(\\alpha)+(\\alpha-1)\\log(x_1\\cdots x_n)-\\beta(x_1+\\cdots+x_n).$$\n",
        "Differentiating $\\log L$ with respect to $\\beta$ and equating to zero, we get\n",
        "$$n\\alpha\\frac{1}{\\beta}-(x_1+\\cdots+x_n)=0,\\text{or }\\alpha=\\beta \\frac{x_1+\\cdots+x_n}{n}.$$\n",
        "Differentiating $\\log L$ with respect to $\\alpha$ and equating to zero, we get\n",
        "$$n\\log\\beta-n\\frac{\\Gamma'(\\alpha)}{\\Gamma(\\alpha)}+\\log(x_1\\cdots x_n)=0.$$\n",
        "So, we get two equations in the two variables $\\alpha$ and $\\beta$. However, the equations do not have a closed form solution, and we need to solve them numerically or approximately. From the first equation, we have $\\log\\beta=\\log\\alpha-\\log\\frac{x_1+\\cdots+x_n}{n}$. Using this in the second equation, we get\n",
        "$$\\log\\alpha - \\frac{\\Gamma'(\\alpha)}{\\Gamma(\\alpha)}=\\log\\frac{x_1+\\cdots+x_n}{n}-\\frac{1}{n}\\log(x_1\\cdots x_n).$$\n",
        "We will now solve the above equation to find the ML estimate of $\\alpha$. This will be a numerical solution."
      ],
      "metadata": {
        "id": "b0XN7TsOa9i7"
      }
    },
    {
      "cell_type": "code",
      "source": [
        "lm1 = np.average(np.log(x))\n",
        "from scipy.special import digamma\n",
        "fML = lambda a: (np.log(a) - digamma(a) - np.log(m1)+lm1)"
      ],
      "metadata": {
        "id": "D6KzURG9bC_0"
      },
      "execution_count": 17,
      "outputs": []
    },
    {
      "cell_type": "markdown",
      "source": [
        "We can plot the above function to see how it looks."
      ],
      "metadata": {
        "id": "ja9QHxm1S46G"
      }
    },
    {
      "cell_type": "code",
      "source": [
        "fig, ax = plt.subplots(1,1)\n",
        "xx = np.linspace(0.1,2,50)\n",
        "ax.plot(xx,fML(xx))\n",
        "ax.grid(True)\n",
        "plt.show()"
      ],
      "metadata": {
        "colab": {
          "base_uri": "https://localhost:8080/",
          "height": 430
        },
        "id": "5JUvF3a0bQVw",
        "outputId": "284bcafd-f375-4dac-ad6b-5293cb538976"
      },
      "execution_count": 18,
      "outputs": [
        {
          "output_type": "display_data",
          "data": {
            "text/plain": [
              "<Figure size 640x480 with 1 Axes>"
            ],
            "image/png": "[encoded data removed]"
          },
          "metadata": {}
        }
      ]
    },
    {
      "cell_type": "code",
      "source": [
        "import scipy.optimize as sopt\n",
        "sol = sopt.root_scalar(fML, bracket=[0.1,10])\n",
        "sol.root"
      ],
      "metadata": {
        "colab": {
          "base_uri": "https://localhost:8080/"
        },
        "id": "sOk1MGiwbu2o",
        "outputId": "e7d33b67-514e-4193-da8b-9190c094ff83"
      },
      "execution_count": 19,
      "outputs": [
        {
          "output_type": "execute_result",
          "data": {
            "text/plain": [
              "6.671755112396601"
            ]
          },
          "metadata": {},
          "execution_count": 19
        }
      ]
    },
    {
      "cell_type": "code",
      "source": [
        "alphaML = sol.root\n",
        "betaML = alphaML/m1\n",
        "print([alphaML, betaML])"
      ],
      "metadata": {
        "colab": {
          "base_uri": "https://localhost:8080/"
        },
        "id": "-cV986t9b_FM",
        "outputId": "80568ea8-f363-4da3-8b3f-b8ea19973e3a"
      },
      "execution_count": 20,
      "outputs": [
        {
          "output_type": "stream",
          "name": "stdout",
          "text": [
            "[6.671755112396601, 0.0969470173203675]\n"
          ]
        }
      ]
    },
    {
      "cell_type": "markdown",
      "source": [
        "Let us check the fit with the histogram."
      ],
      "metadata": {
        "id": "4sY3Iu7HTF3X"
      }
    },
    {
      "cell_type": "code",
      "source": [
        "fig,ax = plt.subplots(1,1)\n",
        "ax.hist(x,density=True,bins=10)\n",
        "xx = np.linspace(0,300,50)\n",
        "ax.plot(xx, st.gamma.pdf(xx,alphaMM,scale=1/betaMM),lw='4',alpha=0.7,label='gamma fit MM')\n",
        "ax.plot(xx, st.gamma.pdf(xx,alphaML,scale=1/betaML),lw='1',label='gamma fit ML')\n",
        "ax.legend(loc='best')\n",
        "plt.show()"
      ],
      "metadata": {
        "colab": {
          "base_uri": "https://localhost:8080/",
          "height": 430
        },
        "id": "vYmCepx9cJoa",
        "outputId": "18b4b879-f546-4639-c73f-31cb8c00033e"
      },
      "execution_count": 21,
      "outputs": [
        {
          "output_type": "display_data",
          "data": {
            "text/plain": [
              "<Figure size 640x480 with 1 Axes>"
            ],
            "image/png": "[encoded data removed]"
          },
          "metadata": {}
        }
      ]
    },
    {
      "cell_type": "markdown",
      "source": [
        "Both the curves are on top of each other showing very good fit. Let us use the bootstrap method to find variance and confidence intervals for the ML estimator."
      ],
      "metadata": {
        "id": "2W4_4O0cdTGW"
      }
    },
    {
      "cell_type": "code",
      "source": [
        "N = 1000\n",
        "n = 1000\n",
        "alpha_hatML = np.zeros(N)\n",
        "beta_hatML = np.zeros(N)\n",
        "for i in np.arange(N):\n",
        "  xi = st.gamma.rvs(alphaMM,scale=1/betaMM,size=n)\n",
        "  m1i = np.average(xi); lm1i = np.average(np.log(xi))\n",
        "  fMLi = lambda a: (np.log(a) - digamma(a) - np.log(m1i)+lm1i)\n",
        "  soli = sopt.root_scalar(fMLi, bracket = [0.1,10])\n",
        "  alpha_hatML[i] = soli.root; beta_hatML[i] = soli.root / m1i"
      ],
      "metadata": {
        "id": "uPFWiXCadVOl"
      },
      "execution_count": 22,
      "outputs": []
    },
    {
      "cell_type": "code",
      "source": [
        "print(np.sqrt(np.var(alpha_hatML)))\n",
        "print(np.sqrt(np.var(beta_hatML)))"
      ],
      "metadata": {
        "colab": {
          "base_uri": "https://localhost:8080/"
        },
        "id": "N50MfsbddZiK",
        "outputId": "75f289bf-f7d1-473a-d1da-32871b55ecb8"
      },
      "execution_count": 23,
      "outputs": [
        {
          "output_type": "stream",
          "name": "stdout",
          "text": [
            "0.29469313393471797\n",
            "0.004429272520234984\n"
          ]
        }
      ]
    },
    {
      "cell_type": "markdown",
      "source": [
        "We see that the variance of the bootstrap ML estimator is lesser than that of bootstrap MM estimator."
      ],
      "metadata": {
        "id": "C57SPHP-TW5J"
      }
    }
  ]
}